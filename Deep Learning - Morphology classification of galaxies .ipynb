{
 "cells": [
  {
   "cell_type": "markdown",
   "metadata": {
    "slideshow": {
     "slide_type": "skip"
    }
   },
   "source": [
    "**Group Members: Christ-Brian Amedjonekou, Emmanuel Gil**  \n",
    "**Date: 05/16/2019**  \n",
    "**PHYS 3600ID-D862 (Machine Learning) Final Project**  \n",
    "**Spring 2019, Section: D862, Code: 37026**  \n",
    "**Instructor: Viviana Acquaviva** "
   ]
  },
  {
   "attachments": {},
   "cell_type": "markdown",
   "metadata": {
    "slideshow": {
     "slide_type": "slide"
    }
   },
   "source": [
    "## Morphology of Galaxies via Convolutional Neural Network\n",
    "\n",
    "### Abstract:\n",
    "\n",
    "For this project, we set out to create a Deep Learning Model, specifically a Convoluational Neural Network (CNN), to analyze the morphology classification of galaxies. The goal of this assignment is to act as a introduction to Deep Learning, and Neural Networks. We are expected to present the results of our implementation of the CNN. This includes the algorithm itself, parameter validation, generalization errors, and visualizations. Python, specifically Google's open source *Tensorflow*, are used to create and implement the CNN for this problem. Ultimately, we seek to demonstrate the effect that the timestep, Δ𝑡, has on the simulation; Particularly, the effect of a 10%, 50%, and 100% increase in the timestep. We expect that a large increase in the timestep will produce a delay that will cause the simulation to fail to mimic its original characteristics (chaos).\n",
    "\n",
    "Tensorflow is a power open source software library for numerical computation [$[1]$](#Sources). Our goal for this \n",
    "\n"
   ]
  },
  {
   "cell_type": "code",
   "execution_count": 1,
   "metadata": {},
   "outputs": [],
   "source": [
    "import numpy as np\n",
    "import pandas as pd\n",
    "import matplotlib.pyplot as plt"
   ]
  },
  {
   "cell_type": "code",
   "execution_count": null,
   "metadata": {},
   "outputs": [],
   "source": []
  },
  {
   "cell_type": "markdown",
   "metadata": {},
   "source": [
    "### Sources\n",
    "\n",
    "1. Géron, A. (2017). Hands-on machine learning with Scikit-Learn and TensorFlow : concepts, tools, and techniques to build intelligent systems. Sebastopol, CA: O'Reilly Media. ISBN: 978-1491962299 \n"
   ]
  }
 ],
 "metadata": {
  "celltoolbar": "Slideshow",
  "kernelspec": {
   "display_name": "Python 3",
   "language": "python",
   "name": "python3"
  },
  "language_info": {
   "codemirror_mode": {
    "name": "ipython",
    "version": 3
   },
   "file_extension": ".py",
   "mimetype": "text/x-python",
   "name": "python",
   "nbconvert_exporter": "python",
   "pygments_lexer": "ipython3",
   "version": "3.6.7"
  }
 },
 "nbformat": 4,
 "nbformat_minor": 2
}
