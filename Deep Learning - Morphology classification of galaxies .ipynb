{
 "cells": [
  {
   "cell_type": "markdown",
   "metadata": {},
   "source": [
    "**Group Members: Christ-Brian Amedjonekou, Emmanuel Gil**  \n",
    "**Date: 05/16/2019**  \n",
    "**PHYS 3600ID-D862 (Machine Learning) Final Project**  \n",
    "**Spring 2019, Section: D862, Code: 37026**  \n",
    "**Instructor: Viviana Acquaviva** "
   ]
  },
  {
   "attachments": {},
   "cell_type": "markdown",
   "metadata": {},
   "source": [
    "## Morphology of Galaxies via Convolutional Neural Network\n",
    "\n",
    "### Abstract:\n",
    "\n",
    "Tensorflow is a power open source software library for numerical computation [$[1]$](#Sources). Our goal for this \n",
    "\n",
    "Use a deep learning algorithm (for example, convolutional neural networks, recurring neural networks) to solve one of the problems we already discussed in class (my recommendation would be to re-do the morphology classification of galaxies using the full data set which is available on Kaggle, the link is in WS7). This will require installing and using TensorFlow/Keras and playing around with tutorials/examples; this work should be included in the report and will be graded as part of the project."
   ]
  },
  {
   "cell_type": "code",
   "execution_count": 1,
   "metadata": {},
   "outputs": [],
   "source": [
    "import numpy as np\n",
    "import pandas as pd\n",
    "import matplotlib.pyplot as plt"
   ]
  },
  {
   "cell_type": "code",
   "execution_count": null,
   "metadata": {},
   "outputs": [],
   "source": []
  },
  {
   "cell_type": "markdown",
   "metadata": {},
   "source": [
    "### Sources\n",
    "\n",
    "1. Géron, A. (2017). Hands-on machine learning with Scikit-Learn and TensorFlow : concepts, tools, and techniques to build intelligent systems. Sebastopol, CA: O'Reilly Media. ISBN: 978-1491962299 \n"
   ]
  }
 ],
 "metadata": {
  "kernelspec": {
   "display_name": "Python 3",
   "language": "python",
   "name": "python3"
  },
  "language_info": {
   "codemirror_mode": {
    "name": "ipython",
    "version": 3
   },
   "file_extension": ".py",
   "mimetype": "text/x-python",
   "name": "python",
   "nbconvert_exporter": "python",
   "pygments_lexer": "ipython3",
   "version": "3.6.7"
  }
 },
 "nbformat": 4,
 "nbformat_minor": 2
}
