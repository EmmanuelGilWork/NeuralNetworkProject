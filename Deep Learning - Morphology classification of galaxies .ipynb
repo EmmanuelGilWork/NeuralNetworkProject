{
 "cells": [
  {
   "cell_type": "markdown",
   "metadata": {
    "slideshow": {
     "slide_type": "skip"
    }
   },
   "source": [
    "**Group Members: Christ-Brian Amedjonekou, Emmanuel Gil**  \n",
    "**Date: 05/16/2019**  \n",
    "**PHYS 3600ID-D862 (Machine Learning) Final Project**  \n",
    "**Spring 2019, Section: D862, Code: 37026**  \n",
    "**Instructor: Viviana Acquaviva** "
   ]
  },
  {
   "cell_type": "markdown",
   "metadata": {
    "slideshow": {
     "slide_type": "slide"
    }
   },
   "source": [
    "## Morphology of Galaxies via Convolutional Neural Network\n",
    "\n",
    "### Abstract:\n",
    "\n",
    "For this project, we set out to create a Deep Learning Model, specifically a Convoluational Neural Network (CNN), to analyze the morphology classification of galaxies. The goal of this assignment is to act as a introduction to Deep Learning, and Neural Networks. We are expected to present the results of our implementation of the CNN. This includes the algorithm itself, parameter validation, generalization errors, and visualizations. Python, specifically Google's open source **Tensorflow**, is used to create and implement the CNN for this problem. We will give you an overview of our experience playing around with tutorials/examples (Rock-Paper-Scissors) then show the results for the morphology classification of galaxies."
   ]
  },
  {
   "attachments": {},
   "cell_type": "markdown",
   "metadata": {
    "slideshow": {
     "slide_type": "slide"
    }
   },
   "source": [
    "### Introduction: What is Deep Learning/Tensorflow?\n",
    "\n",
    "#### Deep Learning\n",
    "\n",
    "* Deep learning is a class of machine learning algorithms that use multiple layers to progressively extract higher level features from raw input. For example, in image processing, lower layers may identify edges, while higher layer may identify human-meaningful items such as digits/letters or faces [$[1]$](#Sources).\n",
    "\n",
    "\n",
    "* Learning can be supervised, semi-supervised or unsupervised [$[1]$](#Sources).\n",
    "\n",
    "#### Tensorflow\n",
    "\n",
    "* Tensorflow is a power open source software library for numerical computation [$[2]$](#Sources). \n",
    "\n",
    "* It's generally used for large scale Machine Learning. \n",
    "\n",
    "* Developed by the Google Brain Team and powers the services: include Google Clound Speech, Google Photos, and Google Search."
   ]
  },
  {
   "attachments": {},
   "cell_type": "markdown",
   "metadata": {
    "slideshow": {
     "slide_type": "subslide"
    }
   },
   "source": [
    "### Introduction: How To \"Tensorflow\"? Creating your First Graph.\n",
    "\n",
    "* Tensorflow is built on this simple principle: defining a graph of computations in Python that runs the code using C++ which is more efficient in managing computer resources. \n",
    "\n",
    "**Example Graph:**\n",
    "\n",
    "<img src= \"https://www.oreilly.com/library/view/getting-started-with/9781491978757/assets/mlst_0901.png\" width= 300 height= 300>\n",
    "\n",
    "\n",
    "**Tensorflow Implementation of the Example**\n",
    "\n",
    "* We'll run import Tensorflow using this command: `import tensorflow as tf`\n",
    "\n",
    "* After we'll run "
   ]
  },
  {
   "cell_type": "code",
   "execution_count": 2,
   "metadata": {
    "slideshow": {
     "slide_type": "skip"
    }
   },
   "outputs": [],
   "source": [
    "import numpy as np\n",
    "import pandas as pd\n",
    "import matplotlib.pyplot as plt\n",
    "import tensorflow as tf"
   ]
  },
  {
   "cell_type": "markdown",
   "metadata": {
    "slideshow": {
     "slide_type": "fragment"
    }
   },
   "source": []
  },
  {
   "cell_type": "markdown",
   "metadata": {},
   "source": [
    "### Sources\n",
    "\n",
    "1. Wikipedia contributors. (2019, May 10). Deep learning. In Wikipedia, The Free Encyclopedia. Retrieved 14:37, May 17, 2019, from https://en.wikipedia.org/w/index.php?title=Deep_learning&oldid=896400229\n",
    "\n",
    "\n",
    "2. Géron, A. (2017). Hands-on machine learning with Scikit-Learn and TensorFlow : concepts, tools, and techniques to build intelligent systems. Sebastopol, CA: O'Reilly Media. ISBN: 978-1491962299 \n"
   ]
  }
 ],
 "metadata": {
  "celltoolbar": "Slideshow",
  "kernelspec": {
   "display_name": "Python 3",
   "language": "python",
   "name": "python3"
  },
  "language_info": {
   "codemirror_mode": {
    "name": "ipython",
    "version": 3
   },
   "file_extension": ".py",
   "mimetype": "text/x-python",
   "name": "python",
   "nbconvert_exporter": "python",
   "pygments_lexer": "ipython3",
   "version": "3.6.7"
  }
 },
 "nbformat": 4,
 "nbformat_minor": 2
}
